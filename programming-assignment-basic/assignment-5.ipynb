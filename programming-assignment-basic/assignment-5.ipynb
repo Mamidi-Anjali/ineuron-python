{
 "cells": [
  {
   "cell_type": "markdown",
   "metadata": {},
   "source": [
    "\n",
    "1. Write a Python Program to Find LCM?\n",
    "2. Write a Python Program to Find HCF?\n",
    "3. Write a Python Program to Convert Decimal to Binary, Octal and Hexadecimal?\n",
    "4. Write a Python Program To Find ASCII value of a character?\n",
    "5. Write a Python Program to Make a Simple Calculator with 4 basic mathematical operations?\n",
    "\n"
   ]
  },
  {
   "cell_type": "code",
   "execution_count": 1,
   "metadata": {},
   "outputs": [
    {
     "name": "stdout",
     "output_type": "stream",
     "text": [
      "enter first num m: 12\n",
      "enter 2nd num n: 24\n",
      "24\n"
     ]
    }
   ],
   "source": [
    "## pgm to find LCM of 2 nums\n",
    "\n",
    "def LCM(x,y):\n",
    "    print(int((x*y)/HCF(x,y)))\n",
    "    \n",
    "def HCF(x,y):\n",
    "    if x<y:\n",
    "        s=x\n",
    "    else:\n",
    "        s=y\n",
    "\n",
    "    for i in range(s,0,-1):\n",
    "        if x%i == 0 and y%i == 0:\n",
    "            break\n",
    "    return i\n",
    "\n",
    "\n",
    "m= int(input(\"enter first num m: \"))\n",
    "n= int(input(\"enter 2nd num n: \"))\n",
    "LCM(m,n)\n"
   ]
  },
  {
   "cell_type": "code",
   "execution_count": 3,
   "metadata": {},
   "outputs": [
    {
     "name": "stdout",
     "output_type": "stream",
     "text": [
      "enter first num x: 12\n",
      "enter 2nd num y: 24\n",
      "12\n"
     ]
    }
   ],
   "source": [
    "## pgm to find HCF\n",
    "\n",
    "x= int(input(\"enter first num x: \"))\n",
    "y= int(input(\"enter 2nd num y: \"))\n",
    "if x<y:\n",
    "    s=x\n",
    "else:\n",
    "    s=y\n",
    "    \n",
    "for i in range(s,0,-1):\n",
    "    if x%i == 0 and y%i == 0:\n",
    "        break\n",
    "print(i)"
   ]
  },
  {
   "cell_type": "code",
   "execution_count": 4,
   "metadata": {},
   "outputs": [
    {
     "name": "stdout",
     "output_type": "stream",
     "text": [
      "enter n : 40\n",
      "dec of 40 to binary is:  101000\n",
      "dec of 40 to octa is:  50\n",
      "dec of 40 to hexa decimal is:  28\n"
     ]
    }
   ],
   "source": [
    "## pgm to convert decimal to octa, binary and hexa decimal using inbuilt functions\n",
    "\n",
    "n=int(input(\"enter n : \"))\n",
    "print(\"dec of\",n,\"to binary is: \",bin(n).replace(\"0b\",\"\")) ## decimal ----> binary\n",
    "print(\"dec of\",n,\"to octa is: \",oct(n).replace(\"0o\",\"\")) ## decimal ----> binary\n",
    "print(\"dec of\",n,\"to hexa decimal is: \",hex(n).replace(\"0x\",\"\")) ## decimal ----> binary\n"
   ]
  },
  {
   "cell_type": "code",
   "execution_count": 5,
   "metadata": {},
   "outputs": [
    {
     "name": "stdout",
     "output_type": "stream",
     "text": [
      "enter decimal num40\n",
      "101000\n"
     ]
    }
   ],
   "source": [
    "# pgm to convert decimal to binary without inbuilt functions\n",
    "# 2 needs to be modifies to 8 for octa conversion and 16 for hexa decimal conversion\n",
    "n=int(input(\"enter decimal num\"))\n",
    "l=[]\n",
    "while(n>0):\n",
    "    r=n%2\n",
    "    l.append(str(r))\n",
    "    n=int(n/2)\n",
    "res=l.reverse()\n",
    "s=\"\".join(l)\n",
    "print(int(s))"
   ]
  },
  {
   "cell_type": "code",
   "execution_count": 6,
   "metadata": {},
   "outputs": [
    {
     "name": "stdout",
     "output_type": "stream",
     "text": [
      "enter character: b\n",
      "b   98\n"
     ]
    }
   ],
   "source": [
    "## pgm to find ASCII value of a character\n",
    "\n",
    "c= input(\"enter character: \")\n",
    "print(c,\" \", ord(c))"
   ]
  },
  {
   "cell_type": "code",
   "execution_count": 8,
   "metadata": {},
   "outputs": [
    {
     "name": "stdout",
     "output_type": "stream",
     "text": [
      "enter a: 3\n",
      "enter b: 4\n",
      "enter operator as add, sub, mul, div: mul\n",
      "12\n"
     ]
    }
   ],
   "source": [
    "## Write a Python Program to Make a Simple Calculator with 4 basic mathematical operations?\n",
    "\n",
    "a= int(input(\"enter a: \"))\n",
    "b= int(input(\"enter b: \"))\n",
    "op= input(\"enter operator as add, sub, mul, div: \")\n",
    "if(op == 'add'):\n",
    "    print(a+b)\n",
    "elif(op==\"sub\"):\n",
    "    print(a-b)\n",
    "elif(op=='mul'):\n",
    "    \n",
    "    print(a*b)\n",
    "elif(op==\"div\"):\n",
    "    print(a/b)\n",
    "else:\n",
    "    print(\"please enter a valid op\")"
   ]
  },
  {
   "cell_type": "code",
   "execution_count": null,
   "metadata": {},
   "outputs": [],
   "source": []
  }
 ],
 "metadata": {
  "kernelspec": {
   "display_name": "Python 3",
   "language": "python",
   "name": "python3"
  },
  "language_info": {
   "codemirror_mode": {
    "name": "ipython",
    "version": 3
   },
   "file_extension": ".py",
   "mimetype": "text/x-python",
   "name": "python",
   "nbconvert_exporter": "python",
   "pygments_lexer": "ipython3",
   "version": "3.7.3"
  }
 },
 "nbformat": 4,
 "nbformat_minor": 2
}
