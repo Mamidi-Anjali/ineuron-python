{
 "cells": [
  {
   "cell_type": "markdown",
   "metadata": {},
   "source": [
    "1. Write a Python Program to Find the Factorial of a Number?\n",
    "2. Write a Python Program to Display the multiplication Table?\n",
    "3. Write a Python Program to Print the Fibonacci sequence?\n",
    "4. Write a Python Program to Check Armstrong Number?\n",
    "5. Write a Python Program to Find Armstrong Number in an Interval?\n",
    "6. Write a Python Program to Find the Sum of Natural Numbers?\n"
   ]
  },
  {
   "cell_type": "code",
   "execution_count": 1,
   "metadata": {},
   "outputs": [
    {
     "name": "stdout",
     "output_type": "stream",
     "text": [
      "enter  a num to  find its factorial: 5\n",
      "120\n"
     ]
    }
   ],
   "source": [
    "## pgm to find the factorial of a number\n",
    "\n",
    "n=int(input(\"enter  a num to  find its factorial: \"))\n",
    "fact=1\n",
    "for i in range(1,n+1):\n",
    "    fact= fact*i\n",
    "print(fact)\n"
   ]
  },
  {
   "cell_type": "code",
   "execution_count": 3,
   "metadata": {},
   "outputs": [
    {
     "name": "stdout",
     "output_type": "stream",
     "text": [
      "enter a number for which we need a multiplication table: 9\n",
      "9  *  0  =  0\n",
      "9  *  1  =  9\n",
      "9  *  2  =  18\n",
      "9  *  3  =  27\n",
      "9  *  4  =  36\n",
      "9  *  5  =  45\n",
      "9  *  6  =  54\n",
      "9  *  7  =  63\n",
      "9  *  8  =  72\n",
      "9  *  9  =  81\n",
      "9  *  10  =  90\n"
     ]
    }
   ],
   "source": [
    "## pgm to disp,ay the multiplication table\n",
    "\n",
    "n= int(input(\"enter a number for which we need a multiplication table: \"))\n",
    "for i in range(11):\n",
    "    print(n,\" * \",i,\" = \",n*i)"
   ]
  },
  {
   "cell_type": "code",
   "execution_count": 8,
   "metadata": {},
   "outputs": [
    {
     "name": "stdout",
     "output_type": "stream",
     "text": [
      "enter n for the range of fibonacci seq: 13\n",
      "1\n",
      "2\n",
      "3\n",
      "5\n",
      "8\n",
      "13\n",
      "21\n",
      "34\n",
      "55\n",
      "89\n",
      "144\n",
      "233\n",
      "377\n"
     ]
    }
   ],
   "source": [
    "## pgm to print the fibonacci sequence\n",
    "a=1\n",
    "b=2\n",
    "n=int(input(\"enter n for the range of fibonacci seq: \"))\n",
    "for i in range(n):\n",
    "    c=a+b\n",
    "    print(a)\n",
    "    a,b=b,c\n",
    "    "
   ]
  },
  {
   "cell_type": "code",
   "execution_count": 31,
   "metadata": {},
   "outputs": [
    {
     "name": "stdout",
     "output_type": "stream",
     "text": [
      "enter n 371\n",
      "371 is armstrong no\n"
     ]
    }
   ],
   "source": [
    "## pgm to check the armstrong number - no which is equal to the sum of  the cubes of each digit\n",
    "\n",
    "n=int(input(\"enter n \"))\n",
    "s=0\n",
    "check=n\n",
    "while(n>0):\n",
    "    l= n%10\n",
    "    s = s+ l**3\n",
    "    ##print(s)\n",
    "    n=int(n/10)\n",
    "if check == s:\n",
    "    print(s,\"is armstrong no\")\n",
    "else:\n",
    "    print(\"not armstrong\")\n",
    "\n"
   ]
  },
  {
   "cell_type": "code",
   "execution_count": 4,
   "metadata": {},
   "outputs": [
    {
     "name": "stdout",
     "output_type": "stream",
     "text": [
      "0\n",
      "1\n",
      "153\n",
      "370\n",
      "371\n"
     ]
    }
   ],
   "source": [
    "## pgm to find armstrong num in an interval\n",
    "\n",
    "def allarmstrongs(x):\n",
    "    for i in range(x):\n",
    "        if(i == checkArmstrong(i)):\n",
    "            print(i)\n",
    "            \n",
    "def checkArmstrong(n):\n",
    "    s=0\n",
    "    while(n>0):\n",
    "        l= n%10\n",
    "        s = s+ l**3\n",
    "        n=int(n/10)\n",
    "    return s\n",
    "\n",
    "\n",
    "allarmstrongs(400)"
   ]
  },
  {
   "cell_type": "code",
   "execution_count": 6,
   "metadata": {},
   "outputs": [
    {
     "data": {
      "text/plain": [
       "55"
      ]
     },
     "execution_count": 6,
     "metadata": {},
     "output_type": "execute_result"
    }
   ],
   "source": [
    "#### pgm to find sum of natural numbers\n",
    "\n",
    "def naturalnumsum(x):\n",
    "    s=0\n",
    "    for i in range(1,x+1):\n",
    "        s=s+i\n",
    "    return s\n",
    "\n",
    "naturalnumsum(10)"
   ]
  },
  {
   "cell_type": "code",
   "execution_count": null,
   "metadata": {},
   "outputs": [],
   "source": []
  }
 ],
 "metadata": {
  "kernelspec": {
   "display_name": "Python 3",
   "language": "python",
   "name": "python3"
  },
  "language_info": {
   "codemirror_mode": {
    "name": "ipython",
    "version": 3
   },
   "file_extension": ".py",
   "mimetype": "text/x-python",
   "name": "python",
   "nbconvert_exporter": "python",
   "pygments_lexer": "ipython3",
   "version": "3.7.3"
  }
 },
 "nbformat": 4,
 "nbformat_minor": 2
}
